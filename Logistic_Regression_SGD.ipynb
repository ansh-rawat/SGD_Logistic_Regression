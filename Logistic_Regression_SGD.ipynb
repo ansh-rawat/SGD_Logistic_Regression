{
 "cells": [
  {
   "cell_type": "markdown",
   "metadata": {
    "id": "7eiDWcM_MC3H"
   },
   "source": [
    "# Implementation of Stochastic Gradient Descent Classifier with Logloss function and L2 regularization (a.k.a. Logistic Regression with SGD) without using scikit-learn"
   ]
  },
  {
   "cell_type": "code",
   "execution_count": 1,
   "metadata": {
    "id": "42Et8BKIxnsp"
   },
   "outputs": [],
   "source": [
    "# Importing Libraries\n",
    "import numpy as np\n",
    "import pandas as pd\n",
    "from sklearn.datasets import make_classification\n",
    "from sklearn.model_selection import train_test_split\n",
    "from sklearn.preprocessing import StandardScaler"
   ]
  },
  {
   "cell_type": "code",
   "execution_count": 2,
   "metadata": {
    "id": "BsMp0oWzx6dv"
   },
   "outputs": [],
   "source": [
    "# Creating custom dataset\n",
    "X, y = make_classification(n_samples=50000, n_features=15, n_informative=10, n_redundant=5,\n",
    "                           n_classes=2,)"
   ]
  },
  {
   "cell_type": "code",
   "execution_count": 3,
   "metadata": {
    "colab": {
     "base_uri": "https://localhost:8080/",
     "height": 34
    },
    "id": "L8W2fg1cyGdX",
    "outputId": "029d4c84-03b2-4143-a04c-34ff49c88890"
   },
   "outputs": [
    {
     "data": {
      "text/plain": [
       "((50000, 15), (50000,))"
      ]
     },
     "execution_count": 3,
     "metadata": {},
     "output_type": "execute_result"
    }
   ],
   "source": [
    "X.shape, y.shape"
   ]
  },
  {
   "cell_type": "code",
   "execution_count": 4,
   "metadata": {
    "id": "0Kh4dBfVyJMP"
   },
   "outputs": [],
   "source": [
    "# Splitting data into train and test\n",
    "X_train, X_test, y_train, y_test = train_test_split(X, y, test_size=0.25)"
   ]
  },
  {
   "cell_type": "code",
   "execution_count": 5,
   "metadata": {
    "id": "gONY1YiDq7jD"
   },
   "outputs": [],
   "source": [
    "# Standardizing the data.\n",
    "scaler = StandardScaler()\n",
    "X_train = scaler.fit_transform(X_train)\n",
    "X_test = scaler.transform(X_test)"
   ]
  },
  {
   "cell_type": "code",
   "execution_count": 6,
   "metadata": {
    "colab": {
     "base_uri": "https://localhost:8080/",
     "height": 34
    },
    "id": "0DR_YMBsyOci",
    "outputId": "732014d9-1731-4d3f-918f-a9f5255ee149"
   },
   "outputs": [
    {
     "data": {
      "text/plain": [
       "((37500, 15), (37500,), (12500, 15), (12500,))"
      ]
     },
     "execution_count": 6,
     "metadata": {},
     "output_type": "execute_result"
    }
   ],
   "source": [
    "X_train.shape, y_train.shape, X_test.shape, y_test.shape"
   ]
  },
  {
   "cell_type": "markdown",
   "metadata": {
    "id": "ZR_HgjgS_wKu"
   },
   "source": [
    "Initializing the weights"
   ]
  },
  {
   "cell_type": "code",
   "execution_count": 7,
   "metadata": {
    "id": "GecwYV9fsKZ9"
   },
   "outputs": [],
   "source": [
    "# Initializing Weights\n",
    "def initialize_weights(dim):\n",
    "    # In this function, we are initializing our weights and bias.\n",
    "    # Initializing weights to zero to keep it simple.\n",
    "    w=np.zeros_like(dim)\n",
    "    # Typically bias are initialized as zero.\n",
    "    b=0\n",
    "    return w,b"
   ]
  },
  {
   "cell_type": "markdown",
   "metadata": {
    "id": "QN83oMWy_5rv"
   },
   "source": [
    "Computing sigmoid function"
   ]
  },
  {
   "cell_type": "code",
   "execution_count": 8,
   "metadata": {
    "id": "nAfmQF47_Sd6"
   },
   "outputs": [],
   "source": [
    "# This function calculates sigmoid value : sigmoid = 1/(1+exp(-z))  \n",
    "def sigmoid(z):\n",
    "    \n",
    "    sig=1/(1+np.exp(-z))\n",
    "\n",
    "    return sig"
   ]
  },
  {
   "cell_type": "markdown",
   "metadata": {
    "id": "lfEiS22zBVYy"
   },
   "source": [
    "Computing logloss function: $log loss = -1*\\frac{1}{n}\\Sigma_{for each Yt,Y_{pred}}(Ytlog10(Y_{pred})+(1-Yt)log10(1-Y_{pred}))$"
   ]
  },
  {
   "cell_type": "code",
   "execution_count": 9,
   "metadata": {
    "id": "VaFDgsp3sKi6"
   },
   "outputs": [],
   "source": [
    "## Computing loss function\n",
    "def logloss(y_true,y_pred):\n",
    "    loss=0\n",
    "    for i in range(len(y_true)):\n",
    "        yt=y_true[i]\n",
    "        yp=y_pred[i]\n",
    "        func=(yt*np.log10(yp)) + ((1-yt)*(np.log10(1-yp)))\n",
    "        loss=loss+func\n",
    "    #print(loss)\n",
    "    loss=-loss/len(y_true)   \n",
    "    #print(loss)\n",
    "    return loss"
   ]
  },
  {
   "cell_type": "markdown",
   "metadata": {
    "id": "YTMxiYKaCQgd"
   },
   "source": [
    "Computing gradient of w : $dw^{(t)} = x_n(y_n − σ((w^{(t)})^{T} x_n+b^{t}))- \\frac{λ}{N}w^{(t)}$ <br>"
   ]
  },
  {
   "cell_type": "code",
   "execution_count": 10,
   "metadata": {
    "id": "NMVikyuFsKo5"
   },
   "outputs": [],
   "source": [
    "## Gradient of w calculation function\n",
    "def gradient_dw(x,y,w,b,alpha,N):\n",
    "    \n",
    "    s=sigmoid(np.dot(w.T,x)+b)\n",
    "    #print(s)\n",
    "    dw=x*(y-s)-(alpha*w/N)\n",
    "    #print(dw)\n",
    "    return dw"
   ]
  },
  {
   "cell_type": "markdown",
   "metadata": {
    "id": "fHvTYZzZJJ_N"
   },
   "source": [
    "Computing gradient of b : $db^{(t)} = y_n- σ((w^{(t)})^{T} x_n+b^{t})$"
   ]
  },
  {
   "cell_type": "code",
   "execution_count": 11,
   "metadata": {
    "id": "0nUf2ft4EZp8"
   },
   "outputs": [],
   "source": [
    "## Gradient of b calculation function\n",
    "def gradient_db(x,y,w,b):\n",
    "    s=sigmoid(np.dot(w.T,x)+b)\n",
    "    #print(s)\n",
    "    db=y-s\n",
    "    return db"
   ]
  },
  {
   "cell_type": "markdown",
   "metadata": {
    "id": "TCK0jY_EOvyU"
   },
   "source": [
    "Implementing logistic regression using stochastic gradient descent."
   ]
  },
  {
   "cell_type": "code",
   "execution_count": 12,
   "metadata": {
    "id": "dmAdc5ejEZ25"
   },
   "outputs": [],
   "source": [
    "# SGD Logistic Regression function\n",
    "def train(X_train,y_train,X_test,y_test,epochs,alpha,eta0):\n",
    "    \n",
    "    # eta0 is learning rate\n",
    "    # Initalize the weights (call the initialize_weights(X_train[0]) function)\n",
    "    \n",
    "    w,b=initialize_weights(X_train[0])\n",
    "    \n",
    "    train_losses=[]\n",
    "    test_losses=[]\n",
    "    \n",
    "    for epoch in range(epochs): # Iterating thorugh each epoch\n",
    "        \n",
    "        for i in range(len(X_train)): # Iterating thorugh each data point\n",
    "            \n",
    "            x=X_train[i]\n",
    "            y=y_train[i]\n",
    "            dw=gradient_dw(x,y,w,b,alpha,N) # Computing gradient of w\n",
    "           \n",
    "            db=gradient_db(x,y,w,b) # Computing gradient of b\n",
    "           \n",
    "            # Updating w and b\n",
    "            w=w+(eta0*dw)\n",
    "            b=b+(eta0*db)\n",
    "            \n",
    "        # Predict the output of X_train using w,b\n",
    "        y_pred=[]\n",
    "        for j in X_train:\n",
    "            z=np.dot(w.T,j)+b\n",
    "            y_p=sigmoid(z)\n",
    "            y_pred.append(y_p)\n",
    "            \n",
    "        # Computing the loss between predicted and actual values.\n",
    "        loss=logloss(y_train,y_pred)\n",
    "        \n",
    "        # Store all the train loss values in a list\n",
    "        train_losses.append(loss)  \n",
    "        \n",
    "        # predict the output of X_test using w,b\n",
    "        y_pred=[]\n",
    "        for k in X_test:\n",
    "            z=np.dot(w.T,k)+b\n",
    "            y_p=sigmoid(z)\n",
    "            y_pred.append(y_p)\n",
    "            \n",
    "        # Computing the loss between predicted and actual values\n",
    "        loss=logloss(y_test,y_pred)\n",
    "        \n",
    "        # Store all the test loss values in a list\n",
    "        test_losses.append(loss)\n",
    "\n",
    "    return w,b,train_losses,test_losses"
   ]
  },
  {
   "cell_type": "code",
   "execution_count": 13,
   "metadata": {
    "id": "sUquz7LFEZ6E"
   },
   "outputs": [],
   "source": [
    "alpha=0.0001\n",
    "eta0=0.0001\n",
    "N=len(X_train)\n",
    "epochs=14\n",
    "w,b,train_loss,test_loss=train(X_train,y_train,X_test,y_test,epochs,alpha,eta0)"
   ]
  },
  {
   "cell_type": "code",
   "execution_count": 14,
   "metadata": {},
   "outputs": [
    {
     "data": {
      "text/plain": [
       "[0.21604927494749188,\n",
       " 0.2018519246086247,\n",
       " 0.19663983235634006,\n",
       " 0.19419077111910116,\n",
       " 0.19289381643119002,\n",
       " 0.19215701956085446,\n",
       " 0.19171900104747927,\n",
       " 0.19145039298539557,\n",
       " 0.19128200776134538,\n",
       " 0.1911747460381558,\n",
       " 0.19110560330149445,\n",
       " 0.19106063233815765,\n",
       " 0.1910311835150574,\n",
       " 0.19101179903992474]"
      ]
     },
     "execution_count": 14,
     "metadata": {},
     "output_type": "execute_result"
    }
   ],
   "source": [
    "train_loss"
   ]
  },
  {
   "cell_type": "code",
   "execution_count": 15,
   "metadata": {},
   "outputs": [
    {
     "data": {
      "text/plain": [
       "[0.21364411866247926,\n",
       " 0.19868874443095638,\n",
       " 0.1931014887928567,\n",
       " 0.19042519389184873,\n",
       " 0.1889746946137371,\n",
       " 0.18812712841871612,\n",
       " 0.18760587534998843,\n",
       " 0.18727306048156522,\n",
       " 0.18705427449773884,\n",
       " 0.18690697324674027,\n",
       " 0.18680575330829913,\n",
       " 0.1867349281365113,\n",
       " 0.18668454846907312,\n",
       " 0.18664816332654732]"
      ]
     },
     "execution_count": 15,
     "metadata": {},
     "output_type": "execute_result"
    }
   ],
   "source": [
    "test_loss"
   ]
  },
  {
   "cell_type": "markdown",
   "metadata": {
    "id": "230YbSgNSUrQ"
   },
   "source": [
    "### Ploting epoch number vs train, test loss"
   ]
  },
  {
   "cell_type": "code",
   "execution_count": 16,
   "metadata": {},
   "outputs": [],
   "source": [
    "import matplotlib.pyplot as plt"
   ]
  },
  {
   "cell_type": "code",
   "execution_count": 17,
   "metadata": {},
   "outputs": [
    {
     "data": {
      "image/png": "[encoded data removed]",
      "text/plain": [
       "<Figure size 432x288 with 1 Axes>"
      ]
     },
     "metadata": {
      "needs_background": "light"
     },
     "output_type": "display_data"
    }
   ],
   "source": [
    "plt.plot(range(1,epochs+1),train_loss,label='Train loss')\n",
    "plt.plot(range(1,epochs+1),test_loss,label='Test loss')\n",
    "plt.title('Loss vs Number of epochs plot')\n",
    "plt.xlabel('Number of epochs')\n",
    "plt.ylabel('Loss')\n",
    "plt.legend()\n",
    "plt.show()"
   ]
  },
  {
   "cell_type": "code",
   "execution_count": 18,
   "metadata": {
    "id": "FUN8puFoEZtU"
   },
   "outputs": [
    {
     "name": "stdout",
     "output_type": "stream",
     "text": [
      "0.998\n",
      "0.99064\n"
     ]
    }
   ],
   "source": [
    "# Checking the performance of our model.\n",
    "def pred(w,b, X):\n",
    "    N = len(X)\n",
    "    predict = []\n",
    "    for i in range(N):\n",
    "        z=np.dot(w,X[i])+b\n",
    "        if sigmoid(z) >= 0.5:\n",
    "            predict.append(1)\n",
    "        else:\n",
    "            predict.append(0)\n",
    "    return np.array(predict)\n",
    "print(1-np.sum(y_train - pred(w,b,X_train))/len(X_train))\n",
    "print(1-np.sum(y_test  - pred(w,b,X_test))/len(X_test))"
   ]
  }
 ],
 "metadata": {
  "colab": {
   "collapsed_sections": [],
   "name": "Assignment.ipynb",
   "provenance": []
  },
  "kernelspec": {
   "display_name": "Python 3",
   "language": "python",
   "name": "python3"
  },
  "language_info": {
   "codemirror_mode": {
    "name": "ipython",
    "version": 3
   },
   "file_extension": ".py",
   "mimetype": "text/x-python",
   "name": "python",
   "nbconvert_exporter": "python",
   "pygments_lexer": "ipython3",
   "version": "3.8.3"
  }
 },
 "nbformat": 4,
 "nbformat_minor": 1
}
